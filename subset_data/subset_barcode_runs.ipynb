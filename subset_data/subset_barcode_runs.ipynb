{
 "cells": [
  {
   "cell_type": "markdown",
   "metadata": {},
   "source": [
    "# Subset barcode runs\n",
    "This Python Jupyter notebook is creates a copy of the barcode runs file that contains just specific samples.\n",
    "\n",
    "First, import Python modules:"
   ]
  },
  {
   "cell_type": "code",
   "execution_count": 1,
   "metadata": {},
   "outputs": [],
   "source": [
    "import os\n",
    "\n",
    "import pandas as pd\n",
    "\n",
    "import yaml"
   ]
  },
  {
   "cell_type": "markdown",
   "metadata": {},
   "source": [
    "Read in the \"master\" barcode runs CSV file and the runs used to compute the escape scores for each sample:"
   ]
  },
  {
   "cell_type": "code",
   "execution_count": 2,
   "metadata": {},
   "outputs": [
    {
     "name": "stdout",
     "output_type": "stream",
     "text": [
      "Reading barcode runs from ../data/barcode_runs.csv\n",
      "Reading escape score samples from ../results/escape_scores/samples.csv\n"
     ]
    }
   ],
   "source": [
    "with open('../config.yaml') as f:\n",
    "    config = yaml.safe_load(f)\n",
    "\n",
    "barcode_runs_file = os.path.join('../', config['barcode_runs'])\n",
    "print(f\"Reading barcode runs from {barcode_runs_file}\")\n",
    "barcode_runs = pd.read_csv(barcode_runs_file)\n",
    "\n",
    "escape_score_samples_file = os.path.join('../', config['escape_score_samples'])\n",
    "print(f\"Reading escape score samples from {escape_score_samples_file}\")\n",
    "escape_score_samples = pd.read_csv(escape_score_samples_file)"
   ]
  },
  {
   "cell_type": "markdown",
   "metadata": {},
   "source": [
    "Now read in the samples to subset:"
   ]
  },
  {
   "cell_type": "code",
   "execution_count": 3,
   "metadata": {},
   "outputs": [
    {
     "name": "stdout",
     "output_type": "stream",
     "text": [
      "Here are the samples we will subset to:\n"
     ]
    },
    {
     "data": {
      "text/html": [
       "<div>\n",
       "<style scoped>\n",
       "    .dataframe tbody tr th:only-of-type {\n",
       "        vertical-align: middle;\n",
       "    }\n",
       "\n",
       "    .dataframe tbody tr th {\n",
       "        vertical-align: top;\n",
       "    }\n",
       "\n",
       "    .dataframe thead th {\n",
       "        text-align: right;\n",
       "    }\n",
       "</style>\n",
       "<table border=\"1\" class=\"dataframe\">\n",
       "  <thead>\n",
       "    <tr style=\"text-align: right;\">\n",
       "      <th></th>\n",
       "      <th>sample</th>\n",
       "    </tr>\n",
       "  </thead>\n",
       "  <tbody>\n",
       "    <tr>\n",
       "      <th>0</th>\n",
       "      <td>LCB1_v2.2_400</td>\n",
       "    </tr>\n",
       "    <tr>\n",
       "      <th>1</th>\n",
       "      <td>LCB1_v2.2_9</td>\n",
       "    </tr>\n",
       "    <tr>\n",
       "      <th>2</th>\n",
       "      <td>AHB2_9</td>\n",
       "    </tr>\n",
       "  </tbody>\n",
       "</table>\n",
       "</div>"
      ],
      "text/plain": [
       "          sample\n",
       "0  LCB1_v2.2_400\n",
       "1    LCB1_v2.2_9\n",
       "2         AHB2_9"
      ]
     },
     "metadata": {},
     "output_type": "display_data"
    }
   ],
   "source": [
    "samples_to_subset_df = pd.read_csv('samples_to_subset.csv')\n",
    "print('Here are the samples we will subset to:')\n",
    "display(samples_to_subset_df)\n",
    "\n",
    "samples_to_subset = samples_to_subset_df['sample'].tolist()\n",
    "assert len(samples_to_subset) == len(set(samples_to_subset)), 'duplicate samples to subset'"
   ]
  },
  {
   "cell_type": "markdown",
   "metadata": {},
   "source": [
    "Now get all the escape-score samples of interest:"
   ]
  },
  {
   "cell_type": "code",
   "execution_count": 4,
   "metadata": {},
   "outputs": [
    {
     "name": "stdout",
     "output_type": "stream",
     "text": [
      "Here are the samples for which we are subsetting barcode runs:\n"
     ]
    },
    {
     "data": {
      "text/html": [
       "<div>\n",
       "<style scoped>\n",
       "    .dataframe tbody tr th:only-of-type {\n",
       "        vertical-align: middle;\n",
       "    }\n",
       "\n",
       "    .dataframe tbody tr th {\n",
       "        vertical-align: top;\n",
       "    }\n",
       "\n",
       "    .dataframe thead th {\n",
       "        text-align: right;\n",
       "    }\n",
       "</style>\n",
       "<table border=\"1\" class=\"dataframe\">\n",
       "  <thead>\n",
       "    <tr style=\"text-align: right;\">\n",
       "      <th></th>\n",
       "      <th>name</th>\n",
       "      <th>library</th>\n",
       "      <th>antibody</th>\n",
       "      <th>concentration</th>\n",
       "      <th>concentration_units</th>\n",
       "      <th>date</th>\n",
       "      <th>pre_sample</th>\n",
       "      <th>post_sample</th>\n",
       "      <th>frac_escape</th>\n",
       "      <th>pre_cells_sorted</th>\n",
       "      <th>post_cells_sorted</th>\n",
       "    </tr>\n",
       "  </thead>\n",
       "  <tbody>\n",
       "    <tr>\n",
       "      <th>0</th>\n",
       "      <td>AHB2_9</td>\n",
       "      <td>lib1</td>\n",
       "      <td>AHB2</td>\n",
       "      <td>9</td>\n",
       "      <td>ng_per_mL</td>\n",
       "      <td>210618</td>\n",
       "      <td>expt_131-132-none-0-reference</td>\n",
       "      <td>expt_132-AHB2-9-escape</td>\n",
       "      <td>0.123</td>\n",
       "      <td>1301648.0</td>\n",
       "      <td>NaN</td>\n",
       "    </tr>\n",
       "    <tr>\n",
       "      <th>1</th>\n",
       "      <td>AHB2_9</td>\n",
       "      <td>lib2</td>\n",
       "      <td>AHB2</td>\n",
       "      <td>9</td>\n",
       "      <td>ng_per_mL</td>\n",
       "      <td>210618</td>\n",
       "      <td>expt_131-132-none-0-reference</td>\n",
       "      <td>expt_132-AHB2-9-escape</td>\n",
       "      <td>0.120</td>\n",
       "      <td>1330108.0</td>\n",
       "      <td>NaN</td>\n",
       "    </tr>\n",
       "    <tr>\n",
       "      <th>2</th>\n",
       "      <td>LCB1_v2.2_400</td>\n",
       "      <td>lib1</td>\n",
       "      <td>LCB1_v2.2</td>\n",
       "      <td>400</td>\n",
       "      <td>ng_per_mL</td>\n",
       "      <td>210115</td>\n",
       "      <td>expt_82-86-none-0-reference</td>\n",
       "      <td>expt_84-LCB1_v2.2-400-escape</td>\n",
       "      <td>0.089</td>\n",
       "      <td>971158.0</td>\n",
       "      <td>NaN</td>\n",
       "    </tr>\n",
       "    <tr>\n",
       "      <th>3</th>\n",
       "      <td>LCB1_v2.2_400</td>\n",
       "      <td>lib2</td>\n",
       "      <td>LCB1_v2.2</td>\n",
       "      <td>400</td>\n",
       "      <td>ng_per_mL</td>\n",
       "      <td>210115</td>\n",
       "      <td>expt_82-86-none-0-reference</td>\n",
       "      <td>expt_84-LCB1_v2.2-400-escape</td>\n",
       "      <td>0.096</td>\n",
       "      <td>1041736.0</td>\n",
       "      <td>NaN</td>\n",
       "    </tr>\n",
       "    <tr>\n",
       "      <th>4</th>\n",
       "      <td>LCB1_v2.2_9</td>\n",
       "      <td>lib1</td>\n",
       "      <td>LCB1_v2.2</td>\n",
       "      <td>9</td>\n",
       "      <td>ng_per_mL</td>\n",
       "      <td>210618</td>\n",
       "      <td>expt_131-132-none-0-reference</td>\n",
       "      <td>expt_131-LCB1_v2.2-9-escape</td>\n",
       "      <td>0.083</td>\n",
       "      <td>902912.0</td>\n",
       "      <td>NaN</td>\n",
       "    </tr>\n",
       "    <tr>\n",
       "      <th>5</th>\n",
       "      <td>LCB1_v2.2_9</td>\n",
       "      <td>lib2</td>\n",
       "      <td>LCB1_v2.2</td>\n",
       "      <td>9</td>\n",
       "      <td>ng_per_mL</td>\n",
       "      <td>210618</td>\n",
       "      <td>expt_131-132-none-0-reference</td>\n",
       "      <td>expt_131-LCB1_v2.2-9-escape</td>\n",
       "      <td>0.076</td>\n",
       "      <td>900790.0</td>\n",
       "      <td>NaN</td>\n",
       "    </tr>\n",
       "  </tbody>\n",
       "</table>\n",
       "</div>"
      ],
      "text/plain": [
       "            name library   antibody concentration concentration_units    date  \\\n",
       "0         AHB2_9    lib1       AHB2             9           ng_per_mL  210618   \n",
       "1         AHB2_9    lib2       AHB2             9           ng_per_mL  210618   \n",
       "2  LCB1_v2.2_400    lib1  LCB1_v2.2           400           ng_per_mL  210115   \n",
       "3  LCB1_v2.2_400    lib2  LCB1_v2.2           400           ng_per_mL  210115   \n",
       "4    LCB1_v2.2_9    lib1  LCB1_v2.2             9           ng_per_mL  210618   \n",
       "5    LCB1_v2.2_9    lib2  LCB1_v2.2             9           ng_per_mL  210618   \n",
       "\n",
       "                      pre_sample                   post_sample  frac_escape  \\\n",
       "0  expt_131-132-none-0-reference        expt_132-AHB2-9-escape        0.123   \n",
       "1  expt_131-132-none-0-reference        expt_132-AHB2-9-escape        0.120   \n",
       "2    expt_82-86-none-0-reference  expt_84-LCB1_v2.2-400-escape        0.089   \n",
       "3    expt_82-86-none-0-reference  expt_84-LCB1_v2.2-400-escape        0.096   \n",
       "4  expt_131-132-none-0-reference   expt_131-LCB1_v2.2-9-escape        0.083   \n",
       "5  expt_131-132-none-0-reference   expt_131-LCB1_v2.2-9-escape        0.076   \n",
       "\n",
       "   pre_cells_sorted  post_cells_sorted  \n",
       "0         1301648.0                NaN  \n",
       "1         1330108.0                NaN  \n",
       "2          971158.0                NaN  \n",
       "3         1041736.0                NaN  \n",
       "4          902912.0                NaN  \n",
       "5          900790.0                NaN  "
      ]
     },
     "metadata": {},
     "output_type": "display_data"
    }
   ],
   "source": [
    "if not set(samples_to_subset).issubset(escape_score_samples['name']):\n",
    "    raise ValueError(f\"Not all samples to subset are in the escape score samples.\")\n",
    "    \n",
    "samples_subset = (\n",
    "    escape_score_samples\n",
    "    .query('name in @samples_to_subset')\n",
    "    .reset_index(drop=True)\n",
    "    )\n",
    "\n",
    "print(f\"Here are the samples for which we are subsetting barcode runs:\")\n",
    "display(samples_subset)"
   ]
  },
  {
   "cell_type": "markdown",
   "metadata": {},
   "source": [
    "Now unfold the samples of interest into the actual relevant barcode runs (this requires getting both the pre- and post-selection run for each sample):"
   ]
  },
  {
   "cell_type": "code",
   "execution_count": 5,
   "metadata": {},
   "outputs": [
    {
     "ename": "AssertionError",
     "evalue": "some barcode runs missing R1",
     "output_type": "error",
     "traceback": [
      "\u001b[0;31m---------------------------------------------------------------------------\u001b[0m",
      "\u001b[0;31mAssertionError\u001b[0m                            Traceback (most recent call last)",
      "\u001b[0;32m<ipython-input-5-414b37c77f44>\u001b[0m in \u001b[0;36m<module>\u001b[0;34m\u001b[0m\n\u001b[1;32m     15\u001b[0m     )\n\u001b[1;32m     16\u001b[0m \u001b[0;34m\u001b[0m\u001b[0m\n\u001b[0;32m---> 17\u001b[0;31m \u001b[0;32massert\u001b[0m \u001b[0mbarcode_runs_subset\u001b[0m\u001b[0;34m[\u001b[0m\u001b[0;34m'R1'\u001b[0m\u001b[0;34m]\u001b[0m\u001b[0;34m.\u001b[0m\u001b[0mnotnull\u001b[0m\u001b[0;34m(\u001b[0m\u001b[0;34m)\u001b[0m\u001b[0;34m.\u001b[0m\u001b[0mall\u001b[0m\u001b[0;34m(\u001b[0m\u001b[0;34m)\u001b[0m\u001b[0;34m,\u001b[0m \u001b[0;34m'some barcode runs missing R1'\u001b[0m\u001b[0;34m\u001b[0m\u001b[0;34m\u001b[0m\u001b[0m\n\u001b[0m\u001b[1;32m     18\u001b[0m \u001b[0;34m\u001b[0m\u001b[0m\n\u001b[1;32m     19\u001b[0m \u001b[0mbarcode_runs_subset_file\u001b[0m \u001b[0;34m=\u001b[0m \u001b[0;34m'barcode_runs_subset.csv'\u001b[0m\u001b[0;34m\u001b[0m\u001b[0;34m\u001b[0m\u001b[0m\n",
      "\u001b[0;31mAssertionError\u001b[0m: some barcode runs missing R1"
     ]
    }
   ],
   "source": [
    "barcode_runs_subset = (\n",
    "    samples_subset\n",
    "    .melt(id_vars=['name', 'library'],\n",
    "          value_vars=['pre_sample', 'post_sample'],\n",
    "          value_name='sample',\n",
    "          var_name='sample_type')\n",
    "    [['library', 'sample']]\n",
    "    .drop_duplicates()\n",
    "    .reset_index(drop=True)\n",
    "    .merge(barcode_runs,\n",
    "           how='left',\n",
    "           on=['library', 'sample'],\n",
    "           validate='one_to_one',\n",
    "           )\n",
    "    )\n",
    "\n",
    "assert barcode_runs_subset['R1'].notnull().all(), 'some barcode runs missing R1'\n",
    "\n",
    "barcode_runs_subset_file = 'barcode_runs_subset.csv'\n",
    "print(f\"Here are the subsetted barcode runs. Writing to {barcode_runs_subset_file}\")\n",
    "barcode_runs_subset.to_csv(barcode_runs_subset_file, index=False)\n",
    "display(barcode_runs_subset)"
   ]
  }
 ],
 "metadata": {
  "kernelspec": {
   "display_name": "Python 3",
   "language": "python",
   "name": "python3"
  },
  "language_info": {
   "codemirror_mode": {
    "name": "ipython",
    "version": 3
   },
   "file_extension": ".py",
   "mimetype": "text/x-python",
   "name": "python",
   "nbconvert_exporter": "python",
   "pygments_lexer": "ipython3",
   "version": "3.7.8"
  }
 },
 "nbformat": 4,
 "nbformat_minor": 4
}

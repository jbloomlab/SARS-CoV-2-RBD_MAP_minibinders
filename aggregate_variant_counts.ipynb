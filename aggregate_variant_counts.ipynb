{
 "cells": [
  {
   "cell_type": "markdown",
   "metadata": {},
   "source": [
    "# Aggregate variant counts for all samples\n",
    "Separate `Snakemake` rules count the observations of each variant in each sample from the Illumina barcode sequencing.\n",
    "This Python Jupyter notebook aggregates all of this counts, and then adds them to a codon variant table."
   ]
  },
  {
   "cell_type": "markdown",
   "metadata": {},
   "source": [
    "## Set up analysis\n",
    "### Import Python modules.\n",
    "Use [plotnine](https://plotnine.readthedocs.io/en/stable/) for ggplot2-like plotting.\n",
    "\n",
    "The analysis relies heavily on the Bloom lab's [dms_variants](https://jbloomlab.github.io/dms_variants) package:"
   ]
  },
  {
   "cell_type": "code",
   "execution_count": 1,
   "metadata": {
    "execution": {
     "iopub.execute_input": "2021-06-28T22:27:45.759081Z",
     "iopub.status.busy": "2021-06-28T22:27:45.758248Z",
     "iopub.status.idle": "2021-06-28T22:27:48.345590Z",
     "shell.execute_reply": "2021-06-28T22:27:48.346151Z"
    }
   },
   "outputs": [],
   "source": [
    "import glob\n",
    "import itertools\n",
    "import math\n",
    "import os\n",
    "import warnings\n",
    "\n",
    "import Bio.SeqIO\n",
    "\n",
    "import dms_variants.codonvarianttable\n",
    "from dms_variants.constants import CBPALETTE\n",
    "import dms_variants.utils\n",
    "import dms_variants.plotnine_themes\n",
    "\n",
    "from IPython.display import display, HTML\n",
    "\n",
    "import pandas as pd\n",
    "\n",
    "from plotnine import *\n",
    "\n",
    "import yaml"
   ]
  },
  {
   "cell_type": "markdown",
   "metadata": {},
   "source": [
    "Set [plotnine](https://plotnine.readthedocs.io/en/stable/) theme to the gray-grid one defined in `dms_variants`:"
   ]
  },
  {
   "cell_type": "code",
   "execution_count": 2,
   "metadata": {
    "execution": {
     "iopub.execute_input": "2021-06-28T22:27:48.353795Z",
     "iopub.status.busy": "2021-06-28T22:27:48.353184Z",
     "iopub.status.idle": "2021-06-28T22:27:48.358036Z",
     "shell.execute_reply": "2021-06-28T22:27:48.357339Z"
    }
   },
   "outputs": [],
   "source": [
    "theme_set(dms_variants.plotnine_themes.theme_graygrid())"
   ]
  },
  {
   "cell_type": "markdown",
   "metadata": {},
   "source": [
    "Versions of key software:"
   ]
  },
  {
   "cell_type": "code",
   "execution_count": 3,
   "metadata": {
    "execution": {
     "iopub.execute_input": "2021-06-28T22:27:48.365634Z",
     "iopub.status.busy": "2021-06-28T22:27:48.364788Z",
     "iopub.status.idle": "2021-06-28T22:27:48.368556Z",
     "shell.execute_reply": "2021-06-28T22:27:48.369290Z"
    }
   },
   "outputs": [
    {
     "name": "stdout",
     "output_type": "stream",
     "text": [
      "Using dms_variants version 0.8.5\n"
     ]
    }
   ],
   "source": [
    "print(f\"Using dms_variants version {dms_variants.__version__}\")"
   ]
  },
  {
   "cell_type": "markdown",
   "metadata": {},
   "source": [
    "Ignore warnings that clutter output:"
   ]
  },
  {
   "cell_type": "code",
   "execution_count": 4,
   "metadata": {
    "execution": {
     "iopub.execute_input": "2021-06-28T22:27:48.376124Z",
     "iopub.status.busy": "2021-06-28T22:27:48.375275Z",
     "iopub.status.idle": "2021-06-28T22:27:48.378045Z",
     "shell.execute_reply": "2021-06-28T22:27:48.378804Z"
    }
   },
   "outputs": [],
   "source": [
    "warnings.simplefilter('ignore')"
   ]
  },
  {
   "cell_type": "markdown",
   "metadata": {},
   "source": [
    "Read the configuration file:"
   ]
  },
  {
   "cell_type": "code",
   "execution_count": 5,
   "metadata": {
    "execution": {
     "iopub.execute_input": "2021-06-28T22:27:48.384771Z",
     "iopub.status.busy": "2021-06-28T22:27:48.383955Z",
     "iopub.status.idle": "2021-06-28T22:27:48.405431Z",
     "shell.execute_reply": "2021-06-28T22:27:48.406063Z"
    }
   },
   "outputs": [],
   "source": [
    "with open('config.yaml') as f:\n",
    "    config = yaml.safe_load(f)"
   ]
  },
  {
   "cell_type": "markdown",
   "metadata": {},
   "source": [
    "Make output directory if needed:"
   ]
  },
  {
   "cell_type": "code",
   "execution_count": 6,
   "metadata": {
    "execution": {
     "iopub.execute_input": "2021-06-28T22:27:48.411707Z",
     "iopub.status.busy": "2021-06-28T22:27:48.410870Z",
     "iopub.status.idle": "2021-06-28T22:27:48.414923Z",
     "shell.execute_reply": "2021-06-28T22:27:48.414231Z"
    }
   },
   "outputs": [],
   "source": [
    "os.makedirs(config['counts_dir'], exist_ok=True)"
   ]
  },
  {
   "cell_type": "markdown",
   "metadata": {},
   "source": [
    "## Initialize codon variant table\n",
    "Initialize the [CodonVariantTable](https://jbloomlab.github.io/dms_variants/dms_variants.codonvarianttable.html#dms_variants.codonvarianttable.CodonVariantTable) using the wildtype gene sequence and the CSV file with the table of variants:"
   ]
  },
  {
   "cell_type": "code",
   "execution_count": 7,
   "metadata": {
    "execution": {
     "iopub.execute_input": "2021-06-28T22:27:48.422177Z",
     "iopub.status.busy": "2021-06-28T22:27:48.421356Z",
     "iopub.status.idle": "2021-06-28T22:27:54.738334Z",
     "shell.execute_reply": "2021-06-28T22:27:54.737159Z"
    }
   },
   "outputs": [
    {
     "name": "stdout",
     "output_type": "stream",
     "text": [
      "Read sequence of 603 nt for SARS-CoV-2 from data/wildtype_sequence.fasta\n",
      "Initializing CodonVariantTable from gene sequence and results/prior_DMS_data/codon_variant_table.csv\n"
     ]
    }
   ],
   "source": [
    "wt_seqrecord = Bio.SeqIO.read(config['wildtype_sequence'], 'fasta')\n",
    "geneseq = str(wt_seqrecord.seq)\n",
    "primary_target = wt_seqrecord.name\n",
    "print(f\"Read sequence of {len(geneseq)} nt for {primary_target} from {config['wildtype_sequence']}\")\n",
    "      \n",
    "print(f\"Initializing CodonVariantTable from gene sequence and {config['codon_variant_table']}\")\n",
    "      \n",
    "variants = dms_variants.codonvarianttable.CodonVariantTable(\n",
    "                geneseq=geneseq,\n",
    "                barcode_variant_file=config['codon_variant_table'],\n",
    "                substitutions_are_codon=True,\n",
    "                substitutions_col='codon_substitutions',\n",
    "                primary_target=primary_target)"
   ]
  },
  {
   "cell_type": "markdown",
   "metadata": {},
   "source": [
    "## Read barcode counts / fates\n",
    "Read data frame with list of all samples (barcode runs):"
   ]
  },
  {
   "cell_type": "code",
   "execution_count": 8,
   "metadata": {
    "execution": {
     "iopub.execute_input": "2021-06-28T22:27:54.755827Z",
     "iopub.status.busy": "2021-06-28T22:27:54.754980Z",
     "iopub.status.idle": "2021-06-28T22:27:54.777910Z",
     "shell.execute_reply": "2021-06-28T22:27:54.778901Z"
    }
   },
   "outputs": [
    {
     "name": "stdout",
     "output_type": "stream",
     "text": [
      "Reading list of barcode runs from data/barcode_runs.csv\n"
     ]
    },
    {
     "data": {
      "text/html": [
       "<table border=\"1\" class=\"dataframe\">\n",
       "  <thead>\n",
       "    <tr style=\"text-align: right;\">\n",
       "      <th>library</th>\n",
       "      <th>sample</th>\n",
       "      <th>date</th>\n",
       "      <th>experiment</th>\n",
       "      <th>antibody</th>\n",
       "      <th>concentration</th>\n",
       "      <th>concentration_units</th>\n",
       "      <th>group</th>\n",
       "      <th>selection</th>\n",
       "      <th>frac_escape</th>\n",
       "      <th>cells_sorted</th>\n",
       "      <th>sample_lib</th>\n",
       "      <th>counts_file</th>\n",
       "      <th>fates_file</th>\n",
       "    </tr>\n",
       "  </thead>\n",
       "  <tbody>\n",
       "    <tr>\n",
       "      <td>lib1</td>\n",
       "      <td>expt_131-132-none-0-reference</td>\n",
       "      <td>210618</td>\n",
       "      <td>expt_131-132</td>\n",
       "      <td>none</td>\n",
       "      <td>0</td>\n",
       "      <td>ng_per_mL</td>\n",
       "      <td>Baker</td>\n",
       "      <td>reference</td>\n",
       "      <td>NaN</td>\n",
       "      <td>NaN</td>\n",
       "      <td>expt_131-132-none-0-reference_lib1</td>\n",
       "      <td>results/counts/expt_131-132-none-0-reference_lib1_counts.csv</td>\n",
       "      <td>results/counts/expt_131-132-none-0-reference_lib1_fates.csv</td>\n",
       "    </tr>\n",
       "    <tr>\n",
       "      <td>lib2</td>\n",
       "      <td>expt_131-132-none-0-reference</td>\n",
       "      <td>210618</td>\n",
       "      <td>expt_131-132</td>\n",
       "      <td>none</td>\n",
       "      <td>0</td>\n",
       "      <td>ng_per_mL</td>\n",
       "      <td>Baker</td>\n",
       "      <td>reference</td>\n",
       "      <td>NaN</td>\n",
       "      <td>NaN</td>\n",
       "      <td>expt_131-132-none-0-reference_lib2</td>\n",
       "      <td>results/counts/expt_131-132-none-0-reference_lib2_counts.csv</td>\n",
       "      <td>results/counts/expt_131-132-none-0-reference_lib2_fates.csv</td>\n",
       "    </tr>\n",
       "    <tr>\n",
       "      <td>lib1</td>\n",
       "      <td>expt_82-86-none-0-reference</td>\n",
       "      <td>210115</td>\n",
       "      <td>expt_82-86</td>\n",
       "      <td>none</td>\n",
       "      <td>0</td>\n",
       "      <td>ng_per_mL</td>\n",
       "      <td>Baker+LY</td>\n",
       "      <td>reference</td>\n",
       "      <td>NaN</td>\n",
       "      <td>NaN</td>\n",
       "      <td>expt_82-86-none-0-reference_lib1</td>\n",
       "      <td>results/counts/expt_82-86-none-0-reference_lib1_counts.csv</td>\n",
       "      <td>results/counts/expt_82-86-none-0-reference_lib1_fates.csv</td>\n",
       "    </tr>\n",
       "    <tr>\n",
       "      <td>lib2</td>\n",
       "      <td>expt_82-86-none-0-reference</td>\n",
       "      <td>210115</td>\n",
       "      <td>expt_82-86</td>\n",
       "      <td>none</td>\n",
       "      <td>0</td>\n",
       "      <td>ng_per_mL</td>\n",
       "      <td>Baker+LY</td>\n",
       "      <td>reference</td>\n",
       "      <td>NaN</td>\n",
       "      <td>NaN</td>\n",
       "      <td>expt_82-86-none-0-reference_lib2</td>\n",
       "      <td>results/counts/expt_82-86-none-0-reference_lib2_counts.csv</td>\n",
       "      <td>results/counts/expt_82-86-none-0-reference_lib2_fates.csv</td>\n",
       "    </tr>\n",
       "    <tr>\n",
       "      <td>lib1</td>\n",
       "      <td>expt_132-AHB2-9-escape</td>\n",
       "      <td>210618</td>\n",
       "      <td>expt_132</td>\n",
       "      <td>AHB2</td>\n",
       "      <td>9</td>\n",
       "      <td>ng_per_mL</td>\n",
       "      <td>Baker</td>\n",
       "      <td>escape</td>\n",
       "      <td>0.123</td>\n",
       "      <td>1301648.0</td>\n",
       "      <td>expt_132-AHB2-9-escape_lib1</td>\n",
       "      <td>results/counts/expt_132-AHB2-9-escape_lib1_counts.csv</td>\n",
       "      <td>results/counts/expt_132-AHB2-9-escape_lib1_fates.csv</td>\n",
       "    </tr>\n",
       "    <tr>\n",
       "      <td>lib2</td>\n",
       "      <td>expt_132-AHB2-9-escape</td>\n",
       "      <td>210618</td>\n",
       "      <td>expt_132</td>\n",
       "      <td>AHB2</td>\n",
       "      <td>9</td>\n",
       "      <td>ng_per_mL</td>\n",
       "      <td>Baker</td>\n",
       "      <td>escape</td>\n",
       "      <td>0.120</td>\n",
       "      <td>1330108.0</td>\n",
       "      <td>expt_132-AHB2-9-escape_lib2</td>\n",
       "      <td>results/counts/expt_132-AHB2-9-escape_lib2_counts.csv</td>\n",
       "      <td>results/counts/expt_132-AHB2-9-escape_lib2_fates.csv</td>\n",
       "    </tr>\n",
       "    <tr>\n",
       "      <td>lib1</td>\n",
       "      <td>expt_84-LCB1_v2.2-400-escape</td>\n",
       "      <td>210115</td>\n",
       "      <td>expt_84</td>\n",
       "      <td>LCB1_v2.2</td>\n",
       "      <td>400</td>\n",
       "      <td>ng_per_mL</td>\n",
       "      <td>Baker</td>\n",
       "      <td>escape</td>\n",
       "      <td>0.089</td>\n",
       "      <td>971158.0</td>\n",
       "      <td>expt_84-LCB1_v2.2-400-escape_lib1</td>\n",
       "      <td>results/counts/expt_84-LCB1_v2.2-400-escape_lib1_counts.csv</td>\n",
       "      <td>results/counts/expt_84-LCB1_v2.2-400-escape_lib1_fates.csv</td>\n",
       "    </tr>\n",
       "    <tr>\n",
       "      <td>lib2</td>\n",
       "      <td>expt_84-LCB1_v2.2-400-escape</td>\n",
       "      <td>210115</td>\n",
       "      <td>expt_84</td>\n",
       "      <td>LCB1_v2.2</td>\n",
       "      <td>400</td>\n",
       "      <td>ng_per_mL</td>\n",
       "      <td>Baker</td>\n",
       "      <td>escape</td>\n",
       "      <td>0.096</td>\n",
       "      <td>1041736.0</td>\n",
       "      <td>expt_84-LCB1_v2.2-400-escape_lib2</td>\n",
       "      <td>results/counts/expt_84-LCB1_v2.2-400-escape_lib2_counts.csv</td>\n",
       "      <td>results/counts/expt_84-LCB1_v2.2-400-escape_lib2_fates.csv</td>\n",
       "    </tr>\n",
       "    <tr>\n",
       "      <td>lib1</td>\n",
       "      <td>expt_131-LCB1_v2.2-9-escape</td>\n",
       "      <td>210618</td>\n",
       "      <td>expt_131</td>\n",
       "      <td>LCB1_v2.2</td>\n",
       "      <td>9</td>\n",
       "      <td>ng_per_mL</td>\n",
       "      <td>Baker</td>\n",
       "      <td>escape</td>\n",
       "      <td>0.083</td>\n",
       "      <td>902912.0</td>\n",
       "      <td>expt_131-LCB1_v2.2-9-escape_lib1</td>\n",
       "      <td>results/counts/expt_131-LCB1_v2.2-9-escape_lib1_counts.csv</td>\n",
       "      <td>results/counts/expt_131-LCB1_v2.2-9-escape_lib1_fates.csv</td>\n",
       "    </tr>\n",
       "    <tr>\n",
       "      <td>lib2</td>\n",
       "      <td>expt_131-LCB1_v2.2-9-escape</td>\n",
       "      <td>210618</td>\n",
       "      <td>expt_131</td>\n",
       "      <td>LCB1_v2.2</td>\n",
       "      <td>9</td>\n",
       "      <td>ng_per_mL</td>\n",
       "      <td>Baker</td>\n",
       "      <td>escape</td>\n",
       "      <td>0.076</td>\n",
       "      <td>900790.0</td>\n",
       "      <td>expt_131-LCB1_v2.2-9-escape_lib2</td>\n",
       "      <td>results/counts/expt_131-LCB1_v2.2-9-escape_lib2_counts.csv</td>\n",
       "      <td>results/counts/expt_131-LCB1_v2.2-9-escape_lib2_fates.csv</td>\n",
       "    </tr>\n",
       "  </tbody>\n",
       "</table>"
      ],
      "text/plain": [
       "<IPython.core.display.HTML object>"
      ]
     },
     "metadata": {},
     "output_type": "display_data"
    }
   ],
   "source": [
    "print(f\"Reading list of barcode runs from {config['barcode_runs']}\")\n",
    "\n",
    "barcode_runs = (pd.read_csv(config['barcode_runs'])\n",
    "                .assign(sample_lib=lambda x: x['sample'] + '_' + x['library'],\n",
    "                        counts_file=lambda x: config['counts_dir'] + '/' + x['sample_lib'] + '_counts.csv',\n",
    "                        fates_file=lambda x: config['counts_dir'] + '/' + x['sample_lib'] + '_fates.csv',\n",
    "                        )\n",
    "                .drop(columns='R1')  # don't need this column, and very large\n",
    "                )\n",
    "\n",
    "assert all(map(os.path.isfile, barcode_runs['counts_file'])), 'missing some counts files'\n",
    "assert all(map(os.path.isfile, barcode_runs['fates_file'])), 'missing some fates files'\n",
    "\n",
    "display(HTML(barcode_runs.to_html(index=False)))"
   ]
  },
  {
   "cell_type": "markdown",
   "metadata": {},
   "source": [
    "Confirm sample / library combinations unique:"
   ]
  },
  {
   "cell_type": "code",
   "execution_count": 9,
   "metadata": {
    "execution": {
     "iopub.execute_input": "2021-06-28T22:27:54.790245Z",
     "iopub.status.busy": "2021-06-28T22:27:54.789254Z",
     "iopub.status.idle": "2021-06-28T22:27:54.792792Z",
     "shell.execute_reply": "2021-06-28T22:27:54.791899Z"
    }
   },
   "outputs": [],
   "source": [
    "assert len(barcode_runs) == len(barcode_runs.groupby(['sample', 'library']))"
   ]
  },
  {
   "cell_type": "markdown",
   "metadata": {},
   "source": [
    "Make sure the the libraries for which we have barcode runs are all in our variant table:"
   ]
  },
  {
   "cell_type": "code",
   "execution_count": 10,
   "metadata": {
    "execution": {
     "iopub.execute_input": "2021-06-28T22:27:54.800735Z",
     "iopub.status.busy": "2021-06-28T22:27:54.799387Z",
     "iopub.status.idle": "2021-06-28T22:27:54.802162Z",
     "shell.execute_reply": "2021-06-28T22:27:54.803041Z"
    }
   },
   "outputs": [],
   "source": [
    "unknown_libs = set(barcode_runs['library']) - set(variants.libraries)\n",
    "if unknown_libs:\n",
    "    raise ValueError(f\"Libraries with barcode runs not in variant table: {unknown_libs}\")"
   ]
  },
  {
   "cell_type": "markdown",
   "metadata": {},
   "source": [
    "Now concatenate the barcode counts and fates for each sample:"
   ]
  },
  {
   "cell_type": "code",
   "execution_count": 11,
   "metadata": {
    "execution": {
     "iopub.execute_input": "2021-06-28T22:27:54.812382Z",
     "iopub.status.busy": "2021-06-28T22:27:54.811604Z",
     "iopub.status.idle": "2021-06-28T22:27:56.195728Z",
     "shell.execute_reply": "2021-06-28T22:27:56.194501Z"
    }
   },
   "outputs": [
    {
     "name": "stdout",
     "output_type": "stream",
     "text": [
      "First few lines of counts data frame:\n"
     ]
    },
    {
     "data": {
      "text/html": [
       "<table border=\"1\" class=\"dataframe\">\n",
       "  <thead>\n",
       "    <tr style=\"text-align: right;\">\n",
       "      <th>barcode</th>\n",
       "      <th>count</th>\n",
       "      <th>library</th>\n",
       "      <th>sample</th>\n",
       "    </tr>\n",
       "  </thead>\n",
       "  <tbody>\n",
       "    <tr>\n",
       "      <td>TTCCAAAATATTGTCA</td>\n",
       "      <td>34432</td>\n",
       "      <td>lib1</td>\n",
       "      <td>expt_131-132-none-0-reference</td>\n",
       "    </tr>\n",
       "    <tr>\n",
       "      <td>TAGTAACAATGCGGTA</td>\n",
       "      <td>15756</td>\n",
       "      <td>lib1</td>\n",
       "      <td>expt_131-132-none-0-reference</td>\n",
       "    </tr>\n",
       "    <tr>\n",
       "      <td>AAAAAACATCTGCATG</td>\n",
       "      <td>10984</td>\n",
       "      <td>lib1</td>\n",
       "      <td>expt_131-132-none-0-reference</td>\n",
       "    </tr>\n",
       "    <tr>\n",
       "      <td>TGAGAATCTATCATGA</td>\n",
       "      <td>10928</td>\n",
       "      <td>lib1</td>\n",
       "      <td>expt_131-132-none-0-reference</td>\n",
       "    </tr>\n",
       "    <tr>\n",
       "      <td>GATTCCGCATTGCAGT</td>\n",
       "      <td>10758</td>\n",
       "      <td>lib1</td>\n",
       "      <td>expt_131-132-none-0-reference</td>\n",
       "    </tr>\n",
       "  </tbody>\n",
       "</table>"
      ],
      "text/plain": [
       "<IPython.core.display.HTML object>"
      ]
     },
     "metadata": {},
     "output_type": "display_data"
    },
    {
     "name": "stdout",
     "output_type": "stream",
     "text": [
      "First few lines of fates data frame:\n"
     ]
    },
    {
     "data": {
      "text/html": [
       "<table border=\"1\" class=\"dataframe\">\n",
       "  <thead>\n",
       "    <tr style=\"text-align: right;\">\n",
       "      <th>fate</th>\n",
       "      <th>count</th>\n",
       "      <th>library</th>\n",
       "      <th>sample</th>\n",
       "    </tr>\n",
       "  </thead>\n",
       "  <tbody>\n",
       "    <tr>\n",
       "      <td>valid barcode</td>\n",
       "      <td>58231727</td>\n",
       "      <td>lib1</td>\n",
       "      <td>expt_131-132-none-0-reference</td>\n",
       "    </tr>\n",
       "    <tr>\n",
       "      <td>invalid barcode</td>\n",
       "      <td>5940301</td>\n",
       "      <td>lib1</td>\n",
       "      <td>expt_131-132-none-0-reference</td>\n",
       "    </tr>\n",
       "    <tr>\n",
       "      <td>low quality barcode</td>\n",
       "      <td>5829772</td>\n",
       "      <td>lib1</td>\n",
       "      <td>expt_131-132-none-0-reference</td>\n",
       "    </tr>\n",
       "    <tr>\n",
       "      <td>failed chastity filter</td>\n",
       "      <td>3820857</td>\n",
       "      <td>lib1</td>\n",
       "      <td>expt_131-132-none-0-reference</td>\n",
       "    </tr>\n",
       "    <tr>\n",
       "      <td>unparseable barcode</td>\n",
       "      <td>1523575</td>\n",
       "      <td>lib1</td>\n",
       "      <td>expt_131-132-none-0-reference</td>\n",
       "    </tr>\n",
       "  </tbody>\n",
       "</table>"
      ],
      "text/plain": [
       "<IPython.core.display.HTML object>"
      ]
     },
     "metadata": {},
     "output_type": "display_data"
    }
   ],
   "source": [
    "counts = pd.concat([pd.read_csv(f) for f in barcode_runs['counts_file']],\n",
    "                   sort=False,\n",
    "                   ignore_index=True)\n",
    "\n",
    "print('First few lines of counts data frame:')\n",
    "display(HTML(counts.head().to_html(index=False)))\n",
    "\n",
    "fates = pd.concat([pd.read_csv(f) for f in barcode_runs['fates_file']],\n",
    "                  sort=False,\n",
    "                  ignore_index=True)\n",
    "\n",
    "print('First few lines of fates data frame:')\n",
    "display(HTML(fates.head().to_html(index=False)))"
   ]
  },
  {
   "cell_type": "markdown",
   "metadata": {},
   "source": [
    "## Examine fates of parsed barcodes\n",
    "First, we'll analyze the \"fates\" of the parsed barcodes.\n",
    "These fates represent what happened to each Illumina read we parsed:\n",
    " - Did the barcode read fail the Illumina chastity filter?\n",
    " - Was the barcode *unparseable* (i.e., the read didn't appear to be a valid barcode based on flanking regions)?\n",
    " - Was the barcode sequence too *low quality* based on the Illumina quality scores?\n",
    " - Was the barcode parseable but *invalid* (i.e., not in our list of variant-associated barcodes in the codon variant table)?\n",
    " - Was the barcode *valid*, and so will be added to variant counts.\n",
    " \n",
    "First, we just write a CSV file with all the barcode fates:"
   ]
  },
  {
   "cell_type": "code",
   "execution_count": 12,
   "metadata": {
    "execution": {
     "iopub.execute_input": "2021-06-28T22:27:56.204317Z",
     "iopub.status.busy": "2021-06-28T22:27:56.202979Z",
     "iopub.status.idle": "2021-06-28T22:27:56.215549Z",
     "shell.execute_reply": "2021-06-28T22:27:56.214843Z"
    }
   },
   "outputs": [
    {
     "name": "stdout",
     "output_type": "stream",
     "text": [
      "Writing barcode fates to results/counts/barcode_fates.csv\n"
     ]
    }
   ],
   "source": [
    "fatesfile = os.path.join(config['counts_dir'], 'barcode_fates.csv')\n",
    "print(f\"Writing barcode fates to {fatesfile}\")\n",
    "fates.to_csv(fatesfile, index=False)"
   ]
  },
  {
   "cell_type": "markdown",
   "metadata": {},
   "source": [
    "Next, we tabulate the barcode fates in wide format:"
   ]
  },
  {
   "cell_type": "code",
   "execution_count": 13,
   "metadata": {
    "execution": {
     "iopub.execute_input": "2021-06-28T22:27:56.234975Z",
     "iopub.status.busy": "2021-06-28T22:27:56.230430Z",
     "iopub.status.idle": "2021-06-28T22:27:56.248419Z",
     "shell.execute_reply": "2021-06-28T22:27:56.247535Z"
    }
   },
   "outputs": [
    {
     "data": {
      "text/html": [
       "<table border=\"1\" class=\"dataframe\">\n",
       "  <thead>\n",
       "    <tr style=\"text-align: right;\">\n",
       "      <th></th>\n",
       "      <th>fate</th>\n",
       "      <th>failed chastity filter</th>\n",
       "      <th>invalid barcode</th>\n",
       "      <th>low quality barcode</th>\n",
       "      <th>unparseable barcode</th>\n",
       "      <th>valid barcode</th>\n",
       "    </tr>\n",
       "    <tr>\n",
       "      <th>sample</th>\n",
       "      <th>library</th>\n",
       "      <th></th>\n",
       "      <th></th>\n",
       "      <th></th>\n",
       "      <th></th>\n",
       "      <th></th>\n",
       "    </tr>\n",
       "  </thead>\n",
       "  <tbody>\n",
       "    <tr>\n",
       "      <th rowspan=\"2\" valign=\"top\">expt_131-132-none-0-reference</th>\n",
       "      <th>lib1</th>\n",
       "      <td>3.8e+06</td>\n",
       "      <td>5.9e+06</td>\n",
       "      <td>5.8e+06</td>\n",
       "      <td>1.5e+06</td>\n",
       "      <td>5.8e+07</td>\n",
       "    </tr>\n",
       "    <tr>\n",
       "      <th>lib2</th>\n",
       "      <td>3.8e+06</td>\n",
       "      <td>5.6e+06</td>\n",
       "      <td>6.0e+06</td>\n",
       "      <td>1.6e+06</td>\n",
       "      <td>6.0e+07</td>\n",
       "    </tr>\n",
       "    <tr>\n",
       "      <th rowspan=\"2\" valign=\"top\">expt_131-LCB1_v2.2-9-escape</th>\n",
       "      <th>lib1</th>\n",
       "      <td>3.4e+05</td>\n",
       "      <td>5.8e+05</td>\n",
       "      <td>5.3e+05</td>\n",
       "      <td>1.3e+05</td>\n",
       "      <td>5.2e+06</td>\n",
       "    </tr>\n",
       "    <tr>\n",
       "      <th>lib2</th>\n",
       "      <td>2.9e+05</td>\n",
       "      <td>4.4e+05</td>\n",
       "      <td>4.6e+05</td>\n",
       "      <td>1.1e+05</td>\n",
       "      <td>4.6e+06</td>\n",
       "    </tr>\n",
       "    <tr>\n",
       "      <th rowspan=\"2\" valign=\"top\">expt_132-AHB2-9-escape</th>\n",
       "      <th>lib1</th>\n",
       "      <td>3.0e+05</td>\n",
       "      <td>5.0e+05</td>\n",
       "      <td>4.8e+05</td>\n",
       "      <td>1.2e+05</td>\n",
       "      <td>4.8e+06</td>\n",
       "    </tr>\n",
       "    <tr>\n",
       "      <th>lib2</th>\n",
       "      <td>4.1e+05</td>\n",
       "      <td>5.8e+05</td>\n",
       "      <td>6.1e+05</td>\n",
       "      <td>2.0e+05</td>\n",
       "      <td>6.2e+06</td>\n",
       "    </tr>\n",
       "    <tr>\n",
       "      <th rowspan=\"2\" valign=\"top\">expt_82-86-none-0-reference</th>\n",
       "      <th>lib1</th>\n",
       "      <td>1.2e+06</td>\n",
       "      <td>3.2e+06</td>\n",
       "      <td>1.5e+06</td>\n",
       "      <td>6.0e+05</td>\n",
       "      <td>3.1e+07</td>\n",
       "    </tr>\n",
       "    <tr>\n",
       "      <th>lib2</th>\n",
       "      <td>1.2e+06</td>\n",
       "      <td>3.0e+06</td>\n",
       "      <td>1.4e+06</td>\n",
       "      <td>6.1e+05</td>\n",
       "      <td>3.2e+07</td>\n",
       "    </tr>\n",
       "    <tr>\n",
       "      <th rowspan=\"2\" valign=\"top\">expt_84-LCB1_v2.2-400-escape</th>\n",
       "      <th>lib1</th>\n",
       "      <td>1.3e+05</td>\n",
       "      <td>3.4e+05</td>\n",
       "      <td>1.5e+05</td>\n",
       "      <td>6.0e+04</td>\n",
       "      <td>3.2e+06</td>\n",
       "    </tr>\n",
       "    <tr>\n",
       "      <th>lib2</th>\n",
       "      <td>1.3e+05</td>\n",
       "      <td>3.2e+05</td>\n",
       "      <td>1.6e+05</td>\n",
       "      <td>6.5e+04</td>\n",
       "      <td>3.4e+06</td>\n",
       "    </tr>\n",
       "  </tbody>\n",
       "</table>"
      ],
      "text/plain": [
       "<IPython.core.display.HTML object>"
      ]
     },
     "metadata": {},
     "output_type": "display_data"
    }
   ],
   "source": [
    "display(HTML(fates\n",
    "             .pivot_table(columns='fate',\n",
    "                          values='count',\n",
    "                          index=['sample', 'library'])\n",
    "             .applymap('{:.1e}'.format)  # scientific notation\n",
    "             .to_html()\n",
    "             ))"
   ]
  },
  {
   "cell_type": "markdown",
   "metadata": {},
   "source": [
    "Now we plot the barcode-read fates for each library / sample, showing the bars for valid barcodes in orange and the others in gray.\n",
    "We see that the largest fraction of barcode reads correspond to valid barcodes, and most of the others are invalid barcodes (probably because the map to variants that aren't present in our variant table since we didn't associate all variants with barcodes). The exception to this is lib2 Titeseq_03_bin3; the PCR for this sample in the original sequencing run failed, so we followed it up with a single MiSeq lane. We did not filter out the PhiX reads from this data before parsing, so these PhiX reads will deflate the fraction of valid barcode reads as expected, but does not indicate any problems."
   ]
  },
  {
   "cell_type": "code",
   "execution_count": 14,
   "metadata": {
    "execution": {
     "iopub.execute_input": "2021-06-28T22:27:56.283729Z",
     "iopub.status.busy": "2021-06-28T22:27:56.263871Z",
     "iopub.status.idle": "2021-06-28T22:27:57.684297Z",
     "shell.execute_reply": "2021-06-28T22:27:57.685252Z"
    }
   },
   "outputs": [
    {
     "data": {
      "image/png": "[encoded data removed]",
      "text/plain": [
       "<Figure size 1300x600 with 10 Axes>"
      ]
     },
     "metadata": {
      "needs_background": "light"
     },
     "output_type": "display_data"
    }
   ],
   "source": [
    "ncol = 4\n",
    "nfacets = len(fates.groupby(['sample', 'library']))\n",
    "\n",
    "barcode_fate_plot = (\n",
    "    ggplot(\n",
    "        fates\n",
    "        .assign(sample=lambda x: pd.Categorical(x['sample'],\n",
    "                                                x['sample'].unique(),\n",
    "                                                ordered=True),\n",
    "                fate=lambda x: pd.Categorical(x['fate'],\n",
    "                                              x['fate'].unique(),\n",
    "                                              ordered=True),\n",
    "                is_valid=lambda x: x['fate'] == 'valid barcode'\n",
    "                ), \n",
    "        aes('fate', 'count', fill='is_valid')) +\n",
    "    geom_bar(stat='identity') +\n",
    "    facet_wrap('~ sample + library', ncol=ncol) +\n",
    "    scale_fill_manual(CBPALETTE, guide=False) +\n",
    "    theme(figure_size=(3.25 * ncol, 2 * math.ceil(nfacets / ncol)),\n",
    "          axis_text_x=element_text(angle=90),\n",
    "          panel_grid_major_x=element_blank()\n",
    "          ) +\n",
    "    scale_y_continuous(labels=dms_variants.utils.latex_sci_not,\n",
    "                       name='number of reads')\n",
    "    )\n",
    "\n",
    "_ = barcode_fate_plot.draw()"
   ]
  },
  {
   "cell_type": "markdown",
   "metadata": {},
   "source": [
    "## Add barcode counts to variant table\n",
    "Now we use the [CodonVariantTable.add_sample_counts_df](https://jbloomlab.github.io/dms_variants/dms_variants.codonvarianttable.html#dms_variants.codonvarianttable.CodonVariantTable.add_sample_counts_df) method to add the barcode counts to the variant table:"
   ]
  },
  {
   "cell_type": "code",
   "execution_count": 15,
   "metadata": {
    "execution": {
     "iopub.execute_input": "2021-06-28T22:27:57.721588Z",
     "iopub.status.busy": "2021-06-28T22:27:57.720747Z",
     "iopub.status.idle": "2021-06-28T22:28:01.306141Z",
     "shell.execute_reply": "2021-06-28T22:28:01.306837Z"
    }
   },
   "outputs": [],
   "source": [
    "variants.add_sample_counts_df(counts)"
   ]
  },
  {
   "cell_type": "markdown",
   "metadata": {},
   "source": [
    "The variant table now has a `variant_count_df` attribute that gives a data frame of all the variant counts.\n",
    "Here are the first few lines:"
   ]
  },
  {
   "cell_type": "code",
   "execution_count": 16,
   "metadata": {
    "execution": {
     "iopub.execute_input": "2021-06-28T22:28:01.317276Z",
     "iopub.status.busy": "2021-06-28T22:28:01.315941Z",
     "iopub.status.idle": "2021-06-28T22:28:01.320433Z",
     "shell.execute_reply": "2021-06-28T22:28:01.321261Z"
    }
   },
   "outputs": [
    {
     "data": {
      "text/html": [
       "<table border=\"1\" class=\"dataframe\">\n",
       "  <thead>\n",
       "    <tr style=\"text-align: right;\">\n",
       "      <th>target</th>\n",
       "      <th>library</th>\n",
       "      <th>sample</th>\n",
       "      <th>barcode</th>\n",
       "      <th>count</th>\n",
       "      <th>variant_call_support</th>\n",
       "      <th>codon_substitutions</th>\n",
       "      <th>aa_substitutions</th>\n",
       "      <th>n_codon_substitutions</th>\n",
       "      <th>n_aa_substitutions</th>\n",
       "    </tr>\n",
       "  </thead>\n",
       "  <tbody>\n",
       "    <tr>\n",
       "      <td>BM48-31</td>\n",
       "      <td>lib1</td>\n",
       "      <td>expt_131-132-none-0-reference</td>\n",
       "      <td>CGATGAATTCAGCTCT</td>\n",
       "      <td>346</td>\n",
       "      <td>12</td>\n",
       "      <td>BM48-31</td>\n",
       "      <td>BM48-31</td>\n",
       "      <td>0</td>\n",
       "      <td>0</td>\n",
       "    </tr>\n",
       "    <tr>\n",
       "      <td>BM48-31</td>\n",
       "      <td>lib1</td>\n",
       "      <td>expt_131-132-none-0-reference</td>\n",
       "      <td>TTACAAATAACACCAT</td>\n",
       "      <td>240</td>\n",
       "      <td>2</td>\n",
       "      <td>BM48-31</td>\n",
       "      <td>BM48-31</td>\n",
       "      <td>0</td>\n",
       "      <td>0</td>\n",
       "    </tr>\n",
       "    <tr>\n",
       "      <td>BM48-31</td>\n",
       "      <td>lib1</td>\n",
       "      <td>expt_131-132-none-0-reference</td>\n",
       "      <td>CCAAGAAAGGCCCCCT</td>\n",
       "      <td>222</td>\n",
       "      <td>2</td>\n",
       "      <td>BM48-31</td>\n",
       "      <td>BM48-31</td>\n",
       "      <td>0</td>\n",
       "      <td>0</td>\n",
       "    </tr>\n",
       "    <tr>\n",
       "      <td>BM48-31</td>\n",
       "      <td>lib1</td>\n",
       "      <td>expt_131-132-none-0-reference</td>\n",
       "      <td>CTACCAAGGATGCTAT</td>\n",
       "      <td>210</td>\n",
       "      <td>4</td>\n",
       "      <td>BM48-31</td>\n",
       "      <td>BM48-31</td>\n",
       "      <td>0</td>\n",
       "      <td>0</td>\n",
       "    </tr>\n",
       "    <tr>\n",
       "      <td>BM48-31</td>\n",
       "      <td>lib1</td>\n",
       "      <td>expt_131-132-none-0-reference</td>\n",
       "      <td>AATTCCGTACAGCGCT</td>\n",
       "      <td>201</td>\n",
       "      <td>6</td>\n",
       "      <td>BM48-31</td>\n",
       "      <td>BM48-31</td>\n",
       "      <td>0</td>\n",
       "      <td>0</td>\n",
       "    </tr>\n",
       "  </tbody>\n",
       "</table>"
      ],
      "text/plain": [
       "<IPython.core.display.HTML object>"
      ]
     },
     "metadata": {},
     "output_type": "display_data"
    }
   ],
   "source": [
    "display(HTML(variants.variant_count_df.head().to_html(index=False)))"
   ]
  },
  {
   "cell_type": "markdown",
   "metadata": {},
   "source": [
    "Write the variant counts data frame to a CSV file.\n",
    "It can then be used to re-initialize a [CodonVariantTable](https://jbloomlab.github.io/dms_variants/dms_variants.codonvarianttable.html#dms_variants.codonvarianttable.CodonVariantTable) via its [from_variant_count_df](https://jbloomlab.github.io/dms_variants/dms_variants.codonvarianttable.html#dms_variants.codonvarianttable.CodonVariantTable.from_variant_count_df) method:"
   ]
  },
  {
   "cell_type": "code",
   "execution_count": 17,
   "metadata": {
    "execution": {
     "iopub.execute_input": "2021-06-28T22:28:01.329556Z",
     "iopub.status.busy": "2021-06-28T22:28:01.328269Z",
     "iopub.status.idle": "2021-06-28T22:28:14.150049Z",
     "shell.execute_reply": "2021-06-28T22:28:14.148641Z"
    }
   },
   "outputs": [
    {
     "name": "stdout",
     "output_type": "stream",
     "text": [
      "Writing variant counts to results/counts/variant_counts.csv.gz\n"
     ]
    }
   ],
   "source": [
    "print(f\"Writing variant counts to {config['variant_counts']}\")\n",
    "variants.variant_count_df.to_csv(config['variant_counts'], index=False, compression='gzip')"
   ]
  },
  {
   "cell_type": "markdown",
   "metadata": {},
   "source": [
    "The [CodonVariantTable](https://jbloomlab.github.io/dms_variants/dms_variants.codonvarianttable.html#dms_variants.codonvarianttable.CodonVariantTable) has lots of nice functions that can be used to analyze the counts it contains.\n",
    "However, we do that in the next notebook so we don't have to re-run this entire (rather computationally intensive) notebook every time we want to analyze a new aspect of the counts."
   ]
  }
 ],
 "metadata": {
  "language_info": {
   "codemirror_mode": {
    "name": "ipython",
    "version": 3
   },
   "file_extension": ".py",
   "mimetype": "text/x-python",
   "name": "python",
   "nbconvert_exporter": "python",
   "pygments_lexer": "ipython3",
   "version": "3.7.8"
  }
 },
 "nbformat": 4,
 "nbformat_minor": 4
}
